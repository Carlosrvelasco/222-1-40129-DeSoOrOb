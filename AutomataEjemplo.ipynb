{
  "nbformat": 4,
  "nbformat_minor": 0,
  "metadata": {
    "colab": {
      "name": "AutomataEjemplo.ipynb",
      "provenance": [],
      "collapsed_sections": [],
      "authorship_tag": "ABX9TyMytJ7XeLztFD2usJwo0Ye3",
      "include_colab_link": true
    },
    "kernelspec": {
      "name": "python3",
      "display_name": "Python 3"
    },
    "language_info": {
      "name": "python"
    }
  },
  "cells": [
    {
      "cell_type": "markdown",
      "metadata": {
        "id": "view-in-github",
        "colab_type": "text"
      },
      "source": [
        "<a href=\"https://colab.research.google.com/github/Carlosrvelasco/222-1-40129-DeSoOrOb/blob/main/AutomataEjemplo.ipynb\" target=\"_parent\"><img src=\"https://colab.research.google.com/assets/colab-badge.svg\" alt=\"Open In Colab\"/></a>"
      ]
    },
    {
      "cell_type": "code",
      "source": [
        "cadena=[1,0,0,1]\n",
        "S1 = 1\n",
        "SFin = S1\n",
        "Sactual = S1\n",
        "fin=False\n",
        "contador=0"
      ],
      "metadata": {
        "id": "diY--Hw3V1UV"
      },
      "execution_count": 15,
      "outputs": []
    },
    {
      "cell_type": "code",
      "source": [
        "while (fin==False):\n",
        "  if(contador> len(cadena)-1):\n",
        "    fin=True\n",
        "    break\n",
        "  if(Sactual==1):\n",
        "    if(cadena[contador]==1):\n",
        "      Sactual=1\n",
        "    if(cadena[contador]==0):\n",
        "      Sactual=2\n",
        "    contador=contador+1\n",
        "    continue\n",
        "  if(Sactual==2):\n",
        "    if(cadena[contador]==0):\n",
        "      Sactual=1\n",
        "    if(cadena[contador]==1):\n",
        "      Sactual=2\n",
        "    contador=contador+1\n",
        "    continue"
      ],
      "metadata": {
        "id": "7QyTUq5-WYY5"
      },
      "execution_count": 16,
      "outputs": []
    },
    {
      "cell_type": "code",
      "source": [
        "if(Sactual==SFin):\n",
        "  print(\"La cadena es correcta\")\n",
        "else:\n",
        "  print(\"la cadena es incorrecta\")"
      ],
      "metadata": {
        "colab": {
          "base_uri": "https://localhost:8080/"
        },
        "id": "nDrd83FYX26s",
        "outputId": "e06837fc-a47c-4ce4-e9cb-8b0905185a75"
      },
      "execution_count": 17,
      "outputs": [
        {
          "output_type": "stream",
          "name": "stdout",
          "text": [
            "La cadena es correcta\n"
          ]
        }
      ]
    }
  ]
}